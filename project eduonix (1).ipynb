{
 "cells": [
  {
   "cell_type": "code",
   "execution_count": 5,
   "id": "551946f1",
   "metadata": {},
   "outputs": [
    {
     "name": "stdout",
     "output_type": "stream",
     "text": [
      "Enter the age: 25\n",
      "***** welcome to age converter *****\n",
      "\n",
      "            option you can exercise are:\n",
      "            1) months\n",
      "            2) weeks\n",
      "            3) days\n",
      "            4) hours\n",
      "            5) minutes\n",
      "            6) seconds\n",
      "            \n",
      "select your option: 1\n",
      "The age in months: 300\n"
     ]
    }
   ],
   "source": [
    "def calculate_duration(age):\n",
    "    months = age * 12\n",
    "    weeks = age * 52\n",
    "    days = age * 365\n",
    "    hours = days * 24\n",
    "    minutes = hours * 60\n",
    "    seconds = minutes * 60\n",
    "    \n",
    "    print('''***** welcome to age converter *****''')\n",
    "    \n",
    "    print('''\n",
    "            option you can exercise are:\n",
    "            1) months\n",
    "            2) weeks\n",
    "            3) days\n",
    "            4) hours\n",
    "            5) minutes\n",
    "            6) seconds\n",
    "            ''')\n",
    "    choose = int(input(\"select your option: \"))\n",
    "    \n",
    "    if choose == 1:\n",
    "        print(f\"The age in months: {months}\")\n",
    "    elif choose == 2:\n",
    "        print(f\"The age in weeks: {weeks}\")\n",
    "    elif choose == 3:\n",
    "        print(f\"The age in days: {days}\")\n",
    "    elif choose == 4:\n",
    "        print(f\"The age in hours: {hours}\")\n",
    "    elif choose == 5:\n",
    "        print(f\"The age in minutes: {minutes}\")\n",
    "    elif choose == 6:\n",
    "        print(f\"The age in seconds: {seconds}\")\n",
    "    else:\n",
    "        print('No option is selected')\n",
    "        \n",
    "    return\n",
    "\n",
    "if __name__ == \"__main__\":\n",
    "    age = int(input('Enter the age: '))\n",
    "    calculate_duration(age)\n"
   ]
  },
  {
   "cell_type": "code",
   "execution_count": null,
   "id": "36bf14ee",
   "metadata": {},
   "outputs": [],
   "source": []
  }
 ],
 "metadata": {
  "kernelspec": {
   "display_name": "Python 3 (ipykernel)",
   "language": "python",
   "name": "python3"
  },
  "language_info": {
   "codemirror_mode": {
    "name": "ipython",
    "version": 3
   },
   "file_extension": ".py",
   "mimetype": "text/x-python",
   "name": "python",
   "nbconvert_exporter": "python",
   "pygments_lexer": "ipython3",
   "version": "3.11.4"
  }
 },
 "nbformat": 4,
 "nbformat_minor": 5
}
